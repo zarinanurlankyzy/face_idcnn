{
 "cells": [
  {
   "cell_type": "code",
   "execution_count": 2,
   "metadata": {},
   "outputs": [
    {
     "ename": "ModuleNotFoundError",
     "evalue": "No module named 'torchvision'",
     "output_type": "error",
     "traceback": [
      "\u001b[31m---------------------------------------------------------------------------\u001b[39m",
      "\u001b[31mModuleNotFoundError\u001b[39m                       Traceback (most recent call last)",
      "\u001b[36mCell\u001b[39m\u001b[36m \u001b[39m\u001b[32mIn[2]\u001b[39m\u001b[32m, line 2\u001b[39m\n\u001b[32m      1\u001b[39m \u001b[38;5;28;01mimport\u001b[39;00m\u001b[38;5;250m \u001b[39m\u001b[34;01mtorch\u001b[39;00m\n\u001b[32m----> \u001b[39m\u001b[32m2\u001b[39m \u001b[38;5;28;01mimport\u001b[39;00m\u001b[38;5;250m \u001b[39m\u001b[34;01mtorchvision\u001b[39;00m\u001b[34;01m.\u001b[39;00m\u001b[34;01mtransforms\u001b[39;00m\u001b[38;5;250m \u001b[39m\u001b[38;5;28;01mas\u001b[39;00m\u001b[38;5;250m \u001b[39m\u001b[34;01mtransforms\u001b[39;00m\n\u001b[32m      3\u001b[39m \u001b[38;5;28;01mfrom\u001b[39;00m\u001b[38;5;250m \u001b[39m\u001b[34;01mPIL\u001b[39;00m\u001b[38;5;250m \u001b[39m\u001b[38;5;28;01mimport\u001b[39;00m Image\n",
      "\u001b[31mModuleNotFoundError\u001b[39m: No module named 'torchvision'"
     ]
    }
   ],
   "source": [
    "import torch\n",
    "import torchvision.transforms as transforms\n",
    "from PIL import Image\n"
   ]
  },
  {
   "cell_type": "code",
   "execution_count": null,
   "metadata": {},
   "outputs": [
    {
     "name": "stdout",
     "output_type": "stream",
     "text": [
      "1-тапсырма: Тензорлармен негізгі амалдар\n",
      "A: tensor([[ 2.2934,  0.4189,  0.1409],\n",
      "        [ 0.5363,  0.6760,  1.0737],\n",
      "        [-0.3211,  0.7256, -1.2581]])\n",
      "B: tensor([[3., 3., 3.],\n",
      "        [3., 3., 3.],\n",
      "        [3., 3., 3.]])\n",
      "Қосу: tensor([[5.2934, 3.4189, 3.1409],\n",
      "        [3.5363, 3.6760, 4.0737],\n",
      "        [2.6789, 3.7256, 1.7419]])\n",
      "Көбейту: tensor([[ 6.8801,  1.2568,  0.4226],\n",
      "        [ 1.6089,  2.0281,  3.2210],\n",
      "        [-0.9633,  2.1769, -3.7742]])\n",
      "A транспозициясы: tensor([[ 2.2934,  0.5363, -0.3211],\n",
      "        [ 0.4189,  0.6760,  0.7256],\n",
      "        [ 0.1409,  1.0737, -1.2581]])\n"
     ]
    }
   ],
   "source": [
    "A = torch.randn(3, 3)\n",
    "B = torch.zeros(3, 3) + 3  \n",
    "sum_tensor = A + B\n",
    "mul_tensor = A * B\n",
    "A_T = A.t()\n",
    "\n",
    "print(\"1-тапсырма: Тензорлармен негізгі амалдар\")\n",
    "print(\"A:\", A)\n",
    "print(\"B:\", B)\n",
    "print(\"Қосу:\", sum_tensor)\n",
    "print(\"Көбейту:\", mul_tensor)\n",
    "print(\"A транспозициясы:\", A_T)"
   ]
  },
  {
   "cell_type": "code",
   "execution_count": 11,
   "metadata": {},
   "outputs": [
    {
     "name": "stdout",
     "output_type": "stream",
     "text": [
      "Бастапқы X:\n",
      " tensor([[ 1,  2,  3,  4],\n",
      "        [ 5,  6,  7,  8],\n",
      "        [ 9, 10, 11, 12],\n",
      "        [13, 14, 15, 16]])\n",
      "Диагоналі 6-ға ауыстырылған X:\n",
      " tensor([[ 1,  4,  3,  4],\n",
      "        [ 5, 12,  7,  8],\n",
      "        [ 9, 20,  6, 12],\n",
      "        [13, 28, 15,  6]])\n",
      "Жұп сандары 0-ге ауыстырылған X:\n",
      " tensor([[ 1,  0,  3,  0],\n",
      "        [ 5,  0,  7,  0],\n",
      "        [ 9,  0,  0,  0],\n",
      "        [13,  0, 15,  0]])\n"
     ]
    }
   ],
   "source": [
    "X = torch.arange(1, 17).reshape(4, 4)\n",
    "X_diag_six = X.clone()\n",
    "X_diag_six.fill_diagonal_(6)\n",
    "\n",
    "X_diag_six[0, :] = torch.arange(1, 5)\n",
    "X_diag_six[:, 1] *= 2\n",
    "\n",
    "X_even_zero = X_diag_six.clone()\n",
    "X_even_zero[X_even_zero % 2 == 0] = 0\n",
    "\n",
    "print(\"Бастапқы X:\\n\", X)\n",
    "print(\"Диагоналі 6-ға ауыстырылған X:\\n\", X_diag_six)\n",
    "print(\"Жұп сандары 0-ге ауыстырылған X:\\n\", X_even_zero)\n"
   ]
  },
  {
   "cell_type": "code",
   "execution_count": 16,
   "metadata": {},
   "outputs": [
    {
     "name": "stdout",
     "output_type": "stream",
     "text": [
      "Қосынды:\n",
      " tensor([[[1.1059, 0.8000, 0.8196],\n",
      "         [0.8275, 0.7451, 0.7451]],\n",
      "\n",
      "        [[1.0314, 0.7451, 0.7922],\n",
      "         [0.7804, 0.7216, 0.7373]],\n",
      "\n",
      "        [[0.9137, 0.6431, 0.7176],\n",
      "         [0.6784, 0.6353, 0.6784]]])\n",
      "Элемент бойынша көбейту:\n",
      " tensor([[[0.2996, 0.1231, 0.1375],\n",
      "         [0.1304, 0.0923, 0.0972]],\n",
      "\n",
      "        [[0.2525, 0.0906, 0.1214],\n",
      "         [0.1014, 0.0784, 0.0927]],\n",
      "\n",
      "        [[0.1783, 0.0302, 0.0779],\n",
      "         [0.0386, 0.0277, 0.0588]]])\n",
      "Скаляр көбейтіндісі:\n",
      " tensor(2.0286)\n",
      "Транспозиция:\n",
      " tensor([[[0.4745, 0.4000, 0.2824],\n",
      "         [0.2118, 0.1647, 0.0627]],\n",
      "\n",
      "        [[0.2078, 0.1529, 0.0510],\n",
      "         [0.1569, 0.1333, 0.0471]],\n",
      "\n",
      "        [[0.2353, 0.2078, 0.1333],\n",
      "         [0.1686, 0.1608, 0.1020]]])\n",
      "Анықтауыш:\n",
      " Анықтауыш тек квадрат матрица үшін есептеледі\n",
      "Соңғы баған:\n",
      " tensor([[0.6157, 0.5882, 0.5765],\n",
      "        [0.6157, 0.5882, 0.5765],\n",
      "        [0.6157, 0.5882, 0.5765]])\n",
      "Соңғы бағанның нормасы:\n",
      " tensor(1.7811)\n"
     ]
    }
   ],
   "source": [
    "\n",
    "transform = transforms.ToTensor()\n",
    "image1 = transform(Image.open(\"gift.jpg\"))\n",
    "image2 = transform(Image.open(\"bw.jpg\"))\n",
    "image1 = transforms.CenterCrop((2, 3))(image1)\n",
    "image2 = transforms.CenterCrop((2, 3))(image2)\n",
    "\n",
    "image1 = image1.squeeze(0)  \n",
    "image2 = image2.squeeze(0)\n",
    "\n",
    "sum_images = image1 + image2\n",
    "\n",
    "mul_images = image1 * image2\n",
    "\n",
    "dot_product = torch.matmul(image1.flatten(), image2.flatten())\n",
    "\n",
    "image1_T = image1.T \n",
    "\n",
    "square_matrix = image1[:, :2] \n",
    "\n",
    "if square_matrix.shape[0] == square_matrix.shape[1]:  \n",
    "    det_A = torch.linalg.det(square_matrix)  \n",
    "else:\n",
    "    det_A = \"Анықтауыш тек квадрат матрица үшін есептеледі\"\n",
    "\n",
    "last_column = image2[:, -1] \n",
    "norm_last_column = torch.linalg.norm(last_column)  \n",
    "\n",
    "print(\"Қосынды:\\n\", sum_images)\n",
    "print(\"Элемент бойынша көбейту:\\n\", mul_images)\n",
    "print(\"Скаляр көбейтіндісі:\\n\", dot_product)\n",
    "print(\"Транспозиция:\\n\", image1_T)\n",
    "print(\"Анықтауыш:\\n\", det_A)\n",
    "print(\"Соңғы баған:\\n\", last_column)\n",
    "print(\"Соңғы бағанның нормасы:\\n\", norm_last_column)\n"
   ]
  },
  {
   "cell_type": "code",
   "execution_count": 15,
   "metadata": {},
   "outputs": [
    {
     "ename": "NameError",
     "evalue": "name 'cv2' is not defined",
     "output_type": "error",
     "traceback": [
      "\u001b[1;31m---------------------------------------------------------------------------\u001b[0m",
      "\u001b[1;31mNameError\u001b[0m                                 Traceback (most recent call last)",
      "Cell \u001b[1;32mIn[15], line 1\u001b[0m\n\u001b[1;32m----> 1\u001b[0m image \u001b[38;5;241m=\u001b[39m \u001b[43mcv2\u001b[49m\u001b[38;5;241m.\u001b[39mimread(\u001b[38;5;124m\"\u001b[39m\u001b[38;5;124mimg.jpg\u001b[39m\u001b[38;5;124m\"\u001b[39m, cv2\u001b[38;5;241m.\u001b[39mIMREAD_GRAYSCALE)\n\u001b[0;32m      2\u001b[0m \u001b[38;5;28mprint\u001b[39m(image\u001b[38;5;241m.\u001b[39mshape)\n\u001b[0;32m      3\u001b[0m image \u001b[38;5;241m=\u001b[39m cv2\u001b[38;5;241m.\u001b[39mresize(image, (\u001b[38;5;241m32\u001b[39m, \u001b[38;5;241m32\u001b[39m)) \n",
      "\u001b[1;31mNameError\u001b[0m: name 'cv2' is not defined"
     ]
    }
   ],
   "source": [
    "image = cv2.imread(\"img.jpg\", cv2.IMREAD_GRAYSCALE)\n",
    "print(image.shape)\n",
    "image = cv2.resize(image, (32, 32)) \n",
    "image_tensor = torch.from_numpy(image).float()  \n",
    "print(image_tensor.shape)\n",
    "B = torch.randn(32, 32)  \n",
    "\n",
    "sum_tensor = image_tensor + B  \n",
    "elementwise_mul = image_tensor * B \n",
    "matmul_tensor = torch.matmul(image_tensor, B.T)  \n",
    "\n",
    "image_reshaped = image_tensor.view(16, 64)\n",
    "\n",
    "fig, axes = plt.subplots(1, 5, figsize=(25, 5))\n",
    "\n",
    "print(image_reshaped.shape)\n",
    "\n",
    "axes[0].imshow(image_tensor.numpy(), cmap=\"gray\", aspect='auto')\n",
    "axes[0].set_title(\"Бастапқы сурет \")\n",
    "\n",
    "axes[1].imshow(sum_tensor.numpy(), cmap=\"gray\", aspect='auto')\n",
    "axes[1].set_title(\"A + B (Қосынды)\")\n",
    "\n",
    "axes[2].imshow(elementwise_mul.numpy(), cmap=\"gray\", aspect='auto')\n",
    "axes[2].set_title(\"Элементтік көбейту\")\n",
    "\n",
    "axes[3].imshow(image_reshaped.numpy(), cmap=\"gray\", aspect='auto')\n",
    "axes[3].set_title(\"Қайта пішімделген тензор\")\n",
    "\n",
    "axes[4].imshow(matmul_tensor.numpy(), cmap=\"gray\", aspect='auto')\n",
    "axes[4].set_title(\"Матрицалық көбейту (MatMul)\")\n",
    "\n",
    "\n",
    "plt.show()\n"
   ]
  }
 ],
 "metadata": {
  "kernelspec": {
   "display_name": ".venv",
   "language": "python",
   "name": "python3"
  },
  "language_info": {
   "codemirror_mode": {
    "name": "ipython",
    "version": 3
   },
   "file_extension": ".py",
   "mimetype": "text/x-python",
   "name": "python",
   "nbconvert_exporter": "python",
   "pygments_lexer": "ipython3",
   "version": "3.11.0"
  }
 },
 "nbformat": 4,
 "nbformat_minor": 2
}
